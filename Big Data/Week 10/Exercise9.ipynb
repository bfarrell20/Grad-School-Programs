{
 "cells": [
  {
   "cell_type": "markdown",
   "id": "99b2bcd0",
   "metadata": {},
   "source": [
    "# Ex-9: Recommender Systems"
   ]
  },
  {
   "cell_type": "markdown",
   "id": "98cd1304",
   "metadata": {},
   "source": [
    "## Question 1  (Recommendations by Critics) [20 points]"
   ]
  },
  {
   "cell_type": "markdown",
   "id": "c9b73a62",
   "metadata": {},
   "source": [
    "### Based on the example in Section 2.2 of Similarity and Recommender Systems:\n",
    "### 1. [6 points] For a user named User3 who gave the following ratings:\n",
    "            \n",
    "            Australia: 6\n",
    "            Hancock: 7\n",
    "            Milk: 9\n",
    "### What would the (Euclidean) distance be to each of the 6 critics?"
   ]
  },
  {
   "cell_type": "code",
   "execution_count": null,
   "id": "87761d31",
   "metadata": {},
   "outputs": [],
   "source": [
    "def EuclideanDist(user_rating, reviewer_rating):\n",
    "    \"\"\"\n",
    "    Calculate the Euclidean distance between two rating vectors.\n",
    "    :param user_rating: A list of ratings given by a user.\n",
    "    :param reviewer_rating: A list of ratings given by a reviewer.\n",
    "    :return: The Euclidean distance between the two rating vectors.\n",
    "    \"\"\"\n",
    "    return sum((user_rating[i] - reviewer_rating[i]) ** 2 for i in range(len(user_rating))) ** 0.5\n",
    "\n",
    "##User and Reviewer Ratings\n",
    "user_rating = [6, 7, 9]\n",
    "denby_scores = [3, 9, 9]\n",
    "mccarthy_ratings = [7, 3, 8]\n",
    "morgenstern_ratings = [7, 0, 8]\n",
    "puig_ratings = [5, 5, 9]\n",
    "travers_ratings = [5, 8, 10]\n",
    "turan_ratings = [7, 4, 7]\n",
    "\n",
    "# Calculate the Euclidean distance between the user rating and each reviewer's ratings\n",
    "denby_distance = EuclideanDist(user_rating, denby_scores)\n",
    "mccarthy_distance = EuclideanDist(user_rating, mccarthy_ratings)\n",
    "morgenstern_distance = EuclideanDist(user_rating, morgenstern_ratings)\n",
    "puig_distance = EuclideanDist(user_rating, puig_ratings)\n",
    "travers_distance = EuclideanDist(user_rating, travers_ratings)\n",
    "turan_distance = EuclideanDist(user_rating, turan_ratings)\n",
    "\n",
    "\n",
    "\n",
    "\n"
   ]
  },
  {
   "cell_type": "code",
   "execution_count": 6,
   "id": "3511a26d",
   "metadata": {},
   "outputs": [
    {
     "name": "stdout",
     "output_type": "stream",
     "text": [
      "Denby distance:  3.605551275463989\n",
      "McCarthy distance:  4.242640687119285\n",
      "Morgenstern distance:  7.14142842854285\n",
      "Puig distance:  2.23606797749979\n",
      "Travers distance:  1.7320508075688772\n",
      "Turan distance:  3.7416573867739413\n"
     ]
    }
   ],
   "source": [
    "print(\"Denby distance: \", denby_distance)\n",
    "print(\"McCarthy distance: \", mccarthy_distance)\n",
    "print(\"Morgenstern distance: \", morgenstern_distance)\n",
    "print(\"Puig distance: \", puig_distance)\n",
    "print(\"Travers distance: \", travers_distance)\n",
    "print(\"Turan distance: \", turan_distance)"
   ]
  },
  {
   "cell_type": "markdown",
   "id": "d1923e08",
   "metadata": {},
   "source": [
    "### 2. [6 points] What is the similarity of User3 to each critic?"
   ]
  },
  {
   "cell_type": "code",
   "execution_count": 8,
   "id": "97c300f9",
   "metadata": {},
   "outputs": [],
   "source": [
    "def similarity(user_rating, reviewer_rating):\n",
    "    \"\"\"\n",
    "    Calculate the similarity between two rating vectors.\n",
    "    :param user_rating: A list of ratings given by a user.\n",
    "    :param reviewer_rating: A list of ratings given by a reviewer.\n",
    "    :return: The similarity between the two rating vectors.\n",
    "    \"\"\"\n",
    "    return 1 / (1 + EuclideanDist(user_rating, reviewer_rating))"
   ]
  },
  {
   "cell_type": "code",
   "execution_count": 10,
   "id": "06920511",
   "metadata": {},
   "outputs": [
    {
     "name": "stdout",
     "output_type": "stream",
     "text": [
      "Denby similarity:  0.21712927295533244\n",
      "McCarthy similarity:  0.1907435698305462\n",
      "Morgenstern similarity:  0.122828568570857\n",
      "Puig similarity:  0.3090169943749474\n",
      "Travers similarity:  0.36602540378443865\n",
      "Turan similarity:  0.21089672205953397\n"
     ]
    }
   ],
   "source": [
    "similarity_denby = similarity(user_rating, denby_scores)\n",
    "similarity_mccarthy = similarity(user_rating, mccarthy_ratings)\n",
    "similarity_morgenstern = similarity(user_rating, morgenstern_ratings)\n",
    "similarity_puig = similarity(user_rating, puig_ratings)\n",
    "similarity_travers = similarity(user_rating, travers_ratings)\n",
    "similarity_turan = similarity(user_rating, turan_ratings)\n",
    "print(\"Denby similarity: \", similarity_denby)\n",
    "print(\"McCarthy similarity: \", similarity_mccarthy)\n",
    "print(\"Morgenstern similarity: \", similarity_morgenstern)   \n",
    "print(\"Puig similarity: \", similarity_puig)\n",
    "print(\"Travers similarity: \", similarity_travers)\n",
    "print(\"Turan similarity: \", similarity_turan)"
   ]
  },
  {
   "cell_type": "markdown",
   "id": "dc6a9064",
   "metadata": {},
   "source": [
    "### 3. [4 points] Which critic is most similar to User3?"
   ]
  },
  {
   "cell_type": "markdown",
   "id": "82e828f3",
   "metadata": {},
   "source": [
    "Morgenstern is the critic that is most similar to User3, with a similarity of 0.123"
   ]
  },
  {
   "cell_type": "markdown",
   "id": "ec2137ae",
   "metadata": {},
   "source": [
    "### 4. [4 points] Which film should be recommended to User3?"
   ]
  },
  {
   "cell_type": "markdown",
   "id": "846d762b",
   "metadata": {},
   "source": [
    "Using method 1 as outlined in the textbook, the recommendation would be Burn After Reading or Body of Lies, because they are tied for the highest rated film by Morenstern that User3 has not already reviewed. "
   ]
  }
 ],
 "metadata": {
  "kernelspec": {
   "display_name": "Python 3",
   "language": "python",
   "name": "python3"
  },
  "language_info": {
   "codemirror_mode": {
    "name": "ipython",
    "version": 3
   },
   "file_extension": ".py",
   "mimetype": "text/x-python",
   "name": "python",
   "nbconvert_exporter": "python",
   "pygments_lexer": "ipython3",
   "version": "3.12.2"
  }
 },
 "nbformat": 4,
 "nbformat_minor": 5
}
