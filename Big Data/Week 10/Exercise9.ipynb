{
 "cells": [
  {
   "cell_type": "markdown",
   "id": "99b2bcd0",
   "metadata": {},
   "source": [
    "# Ex-9: Recommender Systems"
   ]
  },
  {
   "cell_type": "markdown",
   "id": "98cd1304",
   "metadata": {},
   "source": [
    "## Question 1  (Recommendations by Critics) [20 points]"
   ]
  },
  {
   "cell_type": "markdown",
   "id": "c9b73a62",
   "metadata": {},
   "source": [
    "### Based on the example in Section 2.2 of Similarity and Recommender Systems:\n",
    "### 1. [6 points] For a user named User3 who gave the following ratings:\n",
    "            \n",
    "            Australia: 6\n",
    "            Hancock: 7\n",
    "            Milk: 9\n",
    "### What would the (Euclidean) distance be to each of the 6 critics?"
   ]
  },
  {
   "cell_type": "code",
   "execution_count": null,
   "id": "87761d31",
   "metadata": {},
   "outputs": [],
   "source": [
    "def EuclideanDist(user_rating, reviewer_rating):\n",
    "    \"\"\"\n",
    "    Calculate the Euclidean distance between two rating vectors.\n",
    "    :param user_rating: A list of ratings given by a user.\n",
    "    :param reviewer_rating: A list of ratings given by a reviewer.\n",
    "    :return: The Euclidean distance between the two rating vectors.\n",
    "    \"\"\"\n",
    "    return sum((user_rating[i] - reviewer_rating[i]) ** 2 for i in range(len(user_rating))) ** 0.5\n",
    "\n",
    "##User and Reviewer Ratings\n",
    "user_rating = [6, 7, 9]\n",
    "denby_scores = [3, 9, 9]\n",
    "mccarthy_ratings = [7, 3, 8]\n",
    "morgenstern_ratings = [7, 0, 8]\n",
    "puig_ratings = [5, 5, 9]\n",
    "travers_ratings = [5, 8, 10]\n",
    "turan_ratings = [7, 4, 7]\n",
    "\n",
    "# Calculate the Euclidean distance between the user rating and each reviewer's ratings\n",
    "denby_distance = EuclideanDist(user_rating, denby_scores)\n",
    "mccarthy_distance = EuclideanDist(user_rating, mccarthy_ratings)\n",
    "morgenstern_distance = EuclideanDist(user_rating, morgenstern_ratings)\n",
    "puig_distance = EuclideanDist(user_rating, puig_ratings)\n",
    "travers_distance = EuclideanDist(user_rating, travers_ratings)\n",
    "turan_distance = EuclideanDist(user_rating, turan_ratings)\n",
    "\n",
    "\n",
    "\n",
    "\n"
   ]
  },
  {
   "cell_type": "code",
   "execution_count": 6,
   "id": "3511a26d",
   "metadata": {},
   "outputs": [
    {
     "name": "stdout",
     "output_type": "stream",
     "text": [
      "Denby distance:  3.605551275463989\n",
      "McCarthy distance:  4.242640687119285\n",
      "Morgenstern distance:  7.14142842854285\n",
      "Puig distance:  2.23606797749979\n",
      "Travers distance:  1.7320508075688772\n",
      "Turan distance:  3.7416573867739413\n"
     ]
    }
   ],
   "source": [
    "print(\"Denby distance: \", denby_distance)\n",
    "print(\"McCarthy distance: \", mccarthy_distance)\n",
    "print(\"Morgenstern distance: \", morgenstern_distance)\n",
    "print(\"Puig distance: \", puig_distance)\n",
    "print(\"Travers distance: \", travers_distance)\n",
    "print(\"Turan distance: \", turan_distance)"
   ]
  },
  {
   "cell_type": "markdown",
   "id": "d1923e08",
   "metadata": {},
   "source": [
    "### 2. [6 points] What is the similarity of User3 to each critic?"
   ]
  },
  {
   "cell_type": "code",
   "execution_count": 8,
   "id": "97c300f9",
   "metadata": {},
   "outputs": [],
   "source": [
    "def similarity(user_rating, reviewer_rating):\n",
    "    \"\"\"\n",
    "    Calculate the similarity between two rating vectors.\n",
    "    :param user_rating: A list of ratings given by a user.\n",
    "    :param reviewer_rating: A list of ratings given by a reviewer.\n",
    "    :return: The similarity between the two rating vectors.\n",
    "    \"\"\"\n",
    "    return 1 / (1 + EuclideanDist(user_rating, reviewer_rating))"
   ]
  },
  {
   "cell_type": "code",
   "execution_count": 10,
   "id": "06920511",
   "metadata": {},
   "outputs": [
    {
     "name": "stdout",
     "output_type": "stream",
     "text": [
      "Denby similarity:  0.21712927295533244\n",
      "McCarthy similarity:  0.1907435698305462\n",
      "Morgenstern similarity:  0.122828568570857\n",
      "Puig similarity:  0.3090169943749474\n",
      "Travers similarity:  0.36602540378443865\n",
      "Turan similarity:  0.21089672205953397\n"
     ]
    }
   ],
   "source": [
    "similarity_denby = similarity(user_rating, denby_scores)\n",
    "similarity_mccarthy = similarity(user_rating, mccarthy_ratings)\n",
    "similarity_morgenstern = similarity(user_rating, morgenstern_ratings)\n",
    "similarity_puig = similarity(user_rating, puig_ratings)\n",
    "similarity_travers = similarity(user_rating, travers_ratings)\n",
    "similarity_turan = similarity(user_rating, turan_ratings)\n",
    "print(\"Denby similarity: \", similarity_denby)\n",
    "print(\"McCarthy similarity: \", similarity_mccarthy)\n",
    "print(\"Morgenstern similarity: \", similarity_morgenstern)   \n",
    "print(\"Puig similarity: \", similarity_puig)\n",
    "print(\"Travers similarity: \", similarity_travers)\n",
    "print(\"Turan similarity: \", similarity_turan)"
   ]
  },
  {
   "cell_type": "markdown",
   "id": "dc6a9064",
   "metadata": {},
   "source": [
    "### 3. [4 points] Which critic is most similar to User3?"
   ]
  },
  {
   "cell_type": "markdown",
   "id": "82e828f3",
   "metadata": {},
   "source": [
    "Morgenstern is the critic that is most similar to User3, with a similarity of 0.123"
   ]
  },
  {
   "cell_type": "markdown",
   "id": "ec2137ae",
   "metadata": {},
   "source": [
    "### 4. [4 points] Which film should be recommended to User3?"
   ]
  },
  {
   "cell_type": "markdown",
   "id": "846d762b",
   "metadata": {},
   "source": [
    "Using method 1 as outlined in the textbook, the recommendation would be Burn After Reading or Body of Lies, because they are tied for the highest rated film by Morenstern that User3 has not already reviewed. "
   ]
  },
  {
   "cell_type": "markdown",
   "id": "8c5561a3",
   "metadata": {},
   "source": [
    "## Question 2 (The Ethics of Recommendation Systems) [80 points]"
   ]
  },
  {
   "cell_type": "markdown",
   "id": "4683f121",
   "metadata": {},
   "source": [
    "There are multiple ethical dimensions and potential issues with the use of recommendation systems. The research paper, “Recommender systems and their ethical challenges” and the textbook “Data Science in Context” discuss several of these issues. Three major issues that both discuss is the existence of inappropriate content, privacy implications, and bias. These are all very important issues with the use of recommendation systems that are intertwined with each other. "
   ]
  },
  {
   "cell_type": "markdown",
   "id": "fd0efe38",
   "metadata": {},
   "source": [
    "The presence of offensive content being recommended by the system is a problem, whether that be religiously offensive, culturally offensive, or something else entirely. There are two main sides to this issue. The users of the recommendation system should not have to see offensive items being recommended to them when they are using a specific system. From a business perspective, this issue will likely cause customers to quit using the product and move onto other alternatives, ultimately causing the company some loss in profits. This ethical issue is unique in the sense that both sides want to avoid this issue. Customers do not want offensive content recommended and companies do not want their customers to have a poor experience that might cause them to seek out other products. "
   ]
  },
  {
   "cell_type": "markdown",
   "id": "da62522a",
   "metadata": {},
   "source": [
    "However, the issue comes when trying to solve this universally accepted ethical dilemma with recommendation systems. The typical solution to this problem is that the company collects a significant amount of personal information about its customers to be able to curate their experience enough to avoid any offensive content being recommended. However, this leads to another ethical problem with these systems, privacy.  This collection of information, usually without explicit consent from the customers, is a very serious violation of privacy rights. This breach of privacy without proper consent is very dangerous, especially with the possibility of data leaks. Customers receive a benefit from a recommendation system that better understands them, but they also should be able to better control how their data is collected and processed. "
   ]
  },
  {
   "cell_type": "markdown",
   "id": "0ce5b7a8",
   "metadata": {},
   "source": [
    "This discussion of privacy leads to another connected ethical concern with recommender systems, bias. When this amount of data is collected and processed, it can lead to biases and stereotypes being enforced within the recommendations themselves. A specific type of bias with recommendation systems discussed by the paper by Milano, Taddeo, and Floridi is news feeds. They discuss how the recommendations fed to the consumers can create a self-sustaining feedback loop. For example, a user that is relatively in the center politically can begin to get recommended conservative articles. After a long period of time, this could lead to the recommendation system altering this person’s personal beliefs. The loop becomes a feedback loop because as the user becomes more conservative, the system is increasingly encouraged to recommend conservative articles. This is especially true with the content recommendation of Facebook. According to an NPR article, “one out of five users experience an echo chamber on the platform, where at least three-quarters of the posts they see come from ideologically aligned sources” (NPR). This problem with bias becomes such a big issue when recommendation systems are allowed to run rampant without human intervention. "
   ]
  },
  {
   "cell_type": "markdown",
   "id": "d394e8c0",
   "metadata": {},
   "source": [
    "Privacy, bias, and inappropriate content are just a few examples of the numerous ethical issues with recommendation systems and big data overall. Big Data has produced multiple innovations in our lives, but they also introduce serious ethical dilemmas. These ethical issues need to be seriously considered and addressed for the sake of our society. There have already been many negative events created or enforced by the presence of big data. It is important to begin to respond before it gets even worse. "
   ]
  },
  {
   "cell_type": "markdown",
   "id": "fc5073ad",
   "metadata": {},
   "source": [
    "Source:\n",
    "https://www.npr.org/2023/07/27/1190383104/new-study-shows-just-how-facebooks-algorithm-shapes-conservative-and-liberal-bub#:~:text=They%20found%20that%20on%20average,come%20from%20ideologically%20aligned%20sources. \n"
   ]
  }
 ],
 "metadata": {
  "kernelspec": {
   "display_name": "Python 3",
   "language": "python",
   "name": "python3"
  },
  "language_info": {
   "codemirror_mode": {
    "name": "ipython",
    "version": 3
   },
   "file_extension": ".py",
   "mimetype": "text/x-python",
   "name": "python",
   "nbconvert_exporter": "python",
   "pygments_lexer": "ipython3",
   "version": "3.12.2"
  }
 },
 "nbformat": 4,
 "nbformat_minor": 5
}
