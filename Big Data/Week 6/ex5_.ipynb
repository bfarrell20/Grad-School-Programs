{
 "cells": [
  {
   "cell_type": "markdown",
   "metadata": {},
   "source": [
    "# Exercise 5: Spark APIs [100 points]"
   ]
  },
  {
   "cell_type": "markdown",
   "metadata": {},
   "source": [
    "## 1. Accumulators [10 points]\n",
    "[10 points].The title of this Q&A is wrong. It’s really about global variables (aka accumulators). The question shows code that is incorrect. \n",
    "val data = Array(1,2,3,4,5)\n",
    "var counter = 0\n",
    "var rdd = sc.parallelize(data)\n",
    "\n",
    "// Wrong: Don't do this!!\n",
    "rdd.foreach(x => counter += x)\n",
    "\n",
    "println(\"Counter value: \" + counter)\n",
    "Write a corrected version of the code and demonstrate its intended operation.\n",
    "\n"
   ]
  },
  {
   "cell_type": "code",
   "execution_count": null,
   "metadata": {},
   "outputs": [],
   "source": [
    "import org.apache.spark.{SparkConf, SparkContext}\n",
    "import org.apache.spark.util.LongAccumulator\n",
    "\n",
    "object SparkAccumulatorExample {\n",
    "  def main(args: Array[String]): Unit = {\n",
    "    val conf = new SparkConf().setAppName(\"AccumulatorExample\").setMaster(\"local[*]\")\n",
    "    val sc = new SparkContext(conf)\n",
    "\n",
    "    val data = Array(1, 2, 3, 4, 5)\n",
    "    val rdd = sc.parallelize(data)\n",
    "\n",
    "    // Correct approach using Accumulator\n",
    "    val counter: LongAccumulator = sc.longAccumulator(\"Counter Accumulator\")\n",
    "\n",
    "    rdd.foreach(x => counter.add(x))\n",
    "\n",
    "    println(\"Counter value: \" + counter.value)\n",
    "    \n",
    "    sc.stop()\n",
    "  }\n",
    "}"
   ]
  },
  {
   "cell_type": "markdown",
   "metadata": {},
   "source": [
    "Output: 15"
   ]
  },
  {
   "cell_type": "markdown",
   "metadata": {},
   "source": [
    "## 2. Airline Traffic [45 points]"
   ]
  },
  {
   "cell_type": "markdown",
   "metadata": {},
   "source": [
    "#### 1. [15 points] Describe in words and in code (where applicable) the steps you took to set up the environment for gathering the statistical data in the below questions."
   ]
  },
  {
   "cell_type": "markdown",
   "metadata": {},
   "source": [
    "#### 2. [6 points] Which US Airline Has the Least Delays? Report by full names, (e.g., Delta Airlines, not DL)"
   ]
  },
  {
   "cell_type": "code",
   "execution_count": 23,
   "metadata": {},
   "outputs": [
    {
     "name": "stdout",
     "output_type": "stream",
     "text": [
      "\n",
      "Rows with valid Carrier codes: 1225398\n"
     ]
    }
   ],
   "source": [
    "# Step 1: Import libraries\n",
    "import pandas as pd\n",
    "import re\n",
    "\n",
    "\n",
    "    # Step 2: Define documented column names\n",
    "documented_columns = [\n",
    "        'Carrier', 'FlightNumber',\n",
    "        'Undocumented_1', 'Undocumented_2',  # Placeholder for extra columns\n",
    "        'OperatingCarrier', 'OperatingFlightNumber',\n",
    "        'DepartureAirport', 'ArrivalAirport', 'FlightDate', 'DayOfWeek',\n",
    "        'ScheduledDepartureTime_OAG', 'ScheduledDepartureTime_CRS',\n",
    "        'ActualDepartureTime', 'ScheduledArrivalTime_OAG', 'ScheduledArrivalTime_CRS',\n",
    "        'ActualArrivalTime', 'Diff_ScheduledDepartureTimes', 'Diff_ScheduledArrivalTimes',\n",
    "        'ScheduledElapsedMinutes', 'DepartureDelayMinutes', 'ArrivalDelayMinutes',\n",
    "        'Diff_ElapsedMinutes', 'WheelsOffTime', 'WheelsOnTime', 'AircraftTailNumber',\n",
    "        'CancellationCode', 'MinutesLate_DelayCodeE', 'MinutesLate_DelayCodeF',\n",
    "        'MinutesLate_DelayCodeG', 'MinutesLate_DelayCodeH', 'MinutesLate_DelayCodeI'\n",
    "    ]\n",
    "\n",
    "    # Step 3: Determine the total number of columns in the data\n",
    "with open('ontime.td.202406.asc', 'r') as f:\n",
    "        first_line = f.readline()\n",
    "        total_columns = len(first_line.split('|'))\n",
    "\n",
    "    # Step 4: Generate column names\n",
    "if total_columns > len(documented_columns):\n",
    "        extra_columns = total_columns - len(documented_columns)\n",
    "        column_names = documented_columns + [f'ExtraColumn_{i}' for i in range(1, extra_columns + 1)]\n",
    "else:\n",
    "        column_names = documented_columns[:total_columns]\n",
    "\n",
    "    # Step 5: Specify data types for all columns as strings\n",
    "dtype_spec = {col: str for col in column_names}\n",
    "\n",
    "    # Step 6: Load the datasets for June 2024 and July 2024\n",
    "june_data = pd.read_csv('ontime.td.202406.asc', delimiter='|', header=None, names=column_names, dtype=dtype_spec, low_memory=False)\n",
    "july_data = pd.read_csv('ontime.td.202407.asc', delimiter='|', header=None, names=column_names, dtype=dtype_spec, low_memory=False)\n",
    "\n",
    "combined_data = pd.concat([june_data, july_data], ignore_index=True)\n",
    "\n",
    "    # Step 7: Remove the 4 undocumented columns and extra ones\n",
    "columns_to_keep = [\n",
    "        'Carrier', 'FlightNumber', 'OperatingCarrier', 'OperatingFlightNumber',\n",
    "        'DepartureAirport', 'ArrivalAirport', 'FlightDate', 'DayOfWeek',\n",
    "        'ScheduledDepartureTime_OAG', 'ScheduledDepartureTime_CRS',\n",
    "        'ActualDepartureTime', 'ScheduledArrivalTime_OAG', 'ScheduledArrivalTime_CRS',\n",
    "        'ActualArrivalTime', 'Diff_ScheduledDepartureTimes', 'Diff_ScheduledArrivalTimes',\n",
    "        'ScheduledElapsedMinutes', 'DepartureDelayMinutes', 'ArrivalDelayMinutes',\n",
    "        'Diff_ElapsedMinutes', 'WheelsOffTime', 'WheelsOnTime', 'AircraftTailNumber',\n",
    "        'CancellationCode', 'MinutesLate_DelayCodeE', 'MinutesLate_DelayCodeF',\n",
    "        'MinutesLate_DelayCodeG', 'MinutesLate_DelayCodeH', 'MinutesLate_DelayCodeI'\n",
    "    ]\n",
    "combined_data = combined_data[columns_to_keep]\n",
    "\n",
    "    # Step 8: Clean Carrier column\n",
    "combined_data['Carrier'] = combined_data['Carrier'].str.upper().str.strip()\n",
    "\n",
    "    # Step 9: Filter valid Carrier codes (two uppercase letters)\n",
    "valid_carrier_pattern = re.compile(r'^[A-Z]{2}$')\n",
    "carrier_filter = combined_data['Carrier'].str.match(valid_carrier_pattern, na=False)\n",
    "print(f\"\\nRows with valid Carrier codes: {carrier_filter.sum()}\")\n",
    "combined_data = combined_data[carrier_filter]\n",
    "\n",
    "    \n",
    "\n",
    "        "
   ]
  },
  {
   "cell_type": "markdown",
   "metadata": {},
   "source": [
    "The above code shows how I parsed and cleaned the raw data to be able to answer the questions.\n",
    "I had to assign labels to the columns. I had to only account for 2 extra columns between B and C because doing\n",
    "4 like the instructions said messed up the Arrival and Departure Airport columns for the following questions.\n",
    "I decided to declare all the variables as strings and then convert to int as necessary. I used this method because\n",
    "I was getting a lot of improper data type errors and couldn't figure them out otherwise. This was likely due to the\n",
    "column labels being offset by two at first. "
   ]
  },
  {
   "cell_type": "code",
   "execution_count": 53,
   "metadata": {},
   "outputs": [
    {
     "name": "stdout",
     "output_type": "stream",
     "text": [
      "Carrier\n",
      "Southwest Airlines    125.858359\n",
      "American Airlines     129.479622\n",
      "Delta Airlines        131.965433\n",
      "Hawaiian Airlines     140.665946\n",
      "United Airlines       141.952446\n",
      "Name: DepartureDelayMinutes, dtype: float64\n",
      "\n",
      "The airline with the least delays is Southwest Airlines with an average delay of 125.86 minutes.\n"
     ]
    }
   ],
   "source": [
    "# Step 10: Filter valid DepartureDelayMinutes\n",
    "    # Convert column to numeric, forcing errors to NaN\n",
    "combined_data['DepartureDelayMinutes'] = pd.to_numeric(combined_data['DepartureDelayMinutes'], errors='coerce')\n",
    "\n",
    "    # Drop rows where conversion resulted in NaN\n",
    "combined_data = combined_data.dropna(subset=['DepartureDelayMinutes'])\n",
    "\n",
    "    # Convert from float to int (since NaN values are removed)\n",
    "combined_data['DepartureDelayMinutes'] = combined_data['DepartureDelayMinutes'].astype(int)\n",
    "\n",
    "relevant_data = combined_data.dropna(subset=['DepartureDelayMinutes'])\n",
    "\n",
    "    # Step 12: Analyze the data\n",
    "if relevant_data.empty:\n",
    "        print(\"\\nThe cleaned dataset is empty. No valid rows found.\")\n",
    "else:\n",
    "        # Group by Carrier and calculate the mean delay (including all flights)\n",
    "    average_delays = relevant_data.groupby('Carrier')['DepartureDelayMinutes'].mean()\n",
    "\n",
    "# Sort by average delay\n",
    "    sorted_delays = average_delays.sort_values()\n",
    "\n",
    "    airline_mapping = {\n",
    "                'DL': 'Delta Airlines',\n",
    "                'AA': 'American Airlines',\n",
    "                'UA': 'United Airlines',\n",
    "                'WN': 'Southwest Airlines',\n",
    "                'AS': 'Alaska Airlines',\n",
    "                'B6': 'JetBlue Airways',\n",
    "                'NK': 'Spirit Airlines',\n",
    "                'F9': 'Frontier Airlines',\n",
    "                'HA': 'Hawaiian Airlines',\n",
    "                'G4': 'Allegiant Air',\n",
    "                'YX': 'Midwest Airlines',\n",
    "                'OO': 'SkyWest Airlines',\n",
    "                'MQ': 'Envoy Air',\n",
    "                'OH': 'PSA Airlines',\n",
    "                'YV': 'Mesa Airlines',\n",
    "                'QX': 'Horizon Air',\n",
    "                'EV': 'ExpressJet Airlines'\n",
    "            }\n",
    "\n",
    "            # Convert airline codes to full names\n",
    "    sorted_delays.index = sorted_delays.index.map(airline_mapping)\n",
    "\n",
    "            # Report the airline with the least delays\n",
    "    least_delay_airline = sorted_delays.idxmin()\n",
    "    least_delay_value = sorted_delays.min()\n",
    "    print(sorted_delays.head(5))\n",
    "\n",
    "    print(f\"\\nThe airline with the least delays is {least_delay_airline} with an average delay of {least_delay_value:.2f} minutes.\")\n",
    "\n"
   ]
  },
  {
   "cell_type": "markdown",
   "metadata": {},
   "source": [
    "The above code is how I calculated the airlines with the least average delays. \n",
    "I converted the departure delays to int to be able to calculate this. \n",
    "The top 5 least delayed airlines are shown above. SouthWest Airlines ended\n",
    "up being the airline with the least average delays. "
   ]
  },
  {
   "cell_type": "markdown",
   "metadata": {},
   "source": [
    "#### 3. [6 points] What Departure Time of Day Is Best to Avoid Flight Delays, segmented into 5 time blocks [night (10 pm - 6 am), morning (6 am to 10 am), mid-day (10 am to 2 pm), afternoon (2 pm - 6 pm), evening (6 pm - 10 pm)]"
   ]
  },
  {
   "cell_type": "code",
   "execution_count": 52,
   "metadata": {},
   "outputs": [
    {
     "name": "stdout",
     "output_type": "stream",
     "text": [
      "TimeBlock\n",
      "Night        132.867186\n",
      "Mid-Day      135.265775\n",
      "Afternoon    135.455740\n",
      "Evening      137.914275\n",
      "Morning      175.985673\n",
      "Name: DepartureDelayMinutes, dtype: float64\n"
     ]
    }
   ],
   "source": [
    "def categorize_time(hour):\n",
    "    if 22 <= hour or hour < 6:\n",
    "        return 'Night'\n",
    "    elif 6 <= hour < 10:\n",
    "        return 'Morning'\n",
    "    elif 10 <= hour < 14:\n",
    "        return 'Mid-Day'\n",
    "    elif 14 <= hour < 18:\n",
    "        return 'Afternoon'\n",
    "    else:\n",
    "        return 'Evening'\n",
    "\n",
    "## Find the best time of day to avoid delays\n",
    "combined_data['DepartureHour'] = combined_data['ActualDepartureTime'].str[:2]\n",
    "combined_data['DepartureHour'] = pd.to_numeric(combined_data['DepartureHour'], errors='coerce')\n",
    "combined_data['TimeBlock'] = combined_data['DepartureHour'].apply(categorize_time)\n",
    "timeblock_delays = combined_data.groupby('TimeBlock')['DepartureDelayMinutes'].mean().sort_values()\n",
    "print(timeblock_delays)"
   ]
  },
  {
   "cell_type": "markdown",
   "metadata": {},
   "source": [
    "The code for calculating the time block with the least delays is above. Night was the best \n",
    "departure in terms of avoiding delays. "
   ]
  },
  {
   "cell_type": "markdown",
   "metadata": {},
   "source": [
    "#### 4. [5 points] Which Airports Have The Most Flight Delays? Report by full name, (e.g., “Newark Liberty International,” not “EWR,” when the airport code EWR is provided)."
   ]
  },
  {
   "cell_type": "code",
   "execution_count": 48,
   "metadata": {},
   "outputs": [
    {
     "name": "stdout",
     "output_type": "stream",
     "text": [
      "Pago Pago International                      334.461538\n",
      "Aeropuerto Internacional Rafael Hernández    254.245902\n",
      "San Juan - Luis Muñoz Marín International    247.113487\n",
      "Guam International                           242.926230\n",
      "Cyril E. King Airport                        242.833724\n",
      "dtype: float64\n"
     ]
    }
   ],
   "source": [
    "## Find the airports with the most delays\n",
    "airport_mapping = {\n",
    "    'ATL': 'Atlanta - Hartsfield Jackson',\n",
    "    'BWI': \"Baltimore/Wash. Int'l Thurgood Marshall\",\n",
    "    'BOS': 'Boston - Logan International',\n",
    "    'CLT': 'Charlotte - Douglas',\n",
    "    'MDW': 'Chicago - Midway',\n",
    "    'ORD': \"Chicago - O'Hare\",\n",
    "    'CVG': 'Cincinnati Greater Cincinnati',\n",
    "    'DFW': 'Dallas-Fort Worth International',\n",
    "    'DEN': 'Denver - International',\n",
    "    'DTW': 'Detroit - Metro Wayne County',\n",
    "    'FLL': 'Fort Lauderdale Hollywood International',\n",
    "    'IAH': 'Houston - George Bush International',\n",
    "    'LAS': 'Las Vegas - McCarran International',\n",
    "    'LAX': 'Los Angeles International',\n",
    "    'MIA': 'Miami International',\n",
    "    'MSP': 'Minneapolis-St. Paul International',\n",
    "    'EWR': 'Newark Liberty International',\n",
    "    'JFK': 'New York - JFK International',\n",
    "    'LGA': 'New York - LaGuardia',\n",
    "    'MCO': 'Orlando International',\n",
    "    'OAK': 'Oakland International',\n",
    "    'PHL': 'Philadelphia International',\n",
    "    'PHX': 'Phoenix - Sky Harbor International',\n",
    "    'PDX': 'Portland International',\n",
    "    'SLC': 'Salt Lake City International',\n",
    "    'STL': 'St. Louis Lambert International',\n",
    "    'SAN': 'San Diego Intl. Lindbergh Field',\n",
    "    'SFO': 'San Francisco International',\n",
    "    'SEA': 'Seattle-Tacoma International',\n",
    "    'TPA': 'Tampa International',\n",
    "    'DCA': 'Washington - Reagan National',\n",
    "    'IAD': 'Washington - Dulles International',\n",
    "    'PPG': 'Pago Pago International',\n",
    "    'GUM': 'Guam International',\n",
    "    'HNL': 'Honolulu International',\n",
    "    'OGG': 'Kahului Airport',\n",
    "    'KOA': 'Kona International',\n",
    "    'LIH': 'Lihue Airport',\n",
    "    'ITO': 'Hilo International',\n",
    "    'BQN': 'Aeropuerto Internacional Rafael Hernández',\n",
    "    'SJU': 'San Juan - Luis Muñoz Marín International',\n",
    "    'STT': 'Cyril E. King Airport'\n",
    "}\n",
    "\n",
    "    # Find the airports with the most delays\n",
    "combined_data['ArrivalDelayMinutes'] = pd.to_numeric(combined_data['ArrivalDelayMinutes'], errors='coerce')\n",
    "combined_data['DepartureDelayMinutes'] = pd.to_numeric(combined_data['DepartureDelayMinutes'], errors='coerce')\n",
    "\n",
    "arrival_delay = combined_data.groupby('ArrivalAirport')['ArrivalDelayMinutes'].mean().sort_values(ascending=False)\n",
    "departure_delay = combined_data.groupby('DepartureAirport')['DepartureDelayMinutes'].mean().sort_values(ascending=False)\n",
    "total_delay = arrival_delay + departure_delay\n",
    "\n",
    "total_delay.index = total_delay.index.to_series().replace(airport_mapping)\n",
    "total_delay = total_delay.sort_values(ascending=False)\n",
    "print(total_delay.head(5))\n",
    "\n",
    "\n",
    "\n"
   ]
  },
  {
   "cell_type": "markdown",
   "metadata": {},
   "source": [
    "The code above shows the airports with the most delays. Pago Pago International in Puerto Rico was the airport with the most delays."
   ]
  },
  {
   "cell_type": "markdown",
   "metadata": {},
   "source": [
    "#### [5 points] What Are the Top 5 Busiest Airports in the US. Report by full name, (e.g., “Newark Liberty International,” not “EWR”)."
   ]
  },
  {
   "cell_type": "code",
   "execution_count": 46,
   "metadata": {},
   "outputs": [
    {
     "name": "stdout",
     "output_type": "stream",
     "text": [
      "Top 5 Busiest Airports in the US (by total arrivals and departures):\n",
      "Atlanta - Hartsfield Jackson       114182\n",
      "Dallas-Fort Worth International    110252\n",
      "Chicago - O'Hare                   109931\n",
      "Denver - International             101826\n",
      "Charlotte - Douglas                 86198\n",
      "Name: count, dtype: int64\n"
     ]
    }
   ],
   "source": [
    "# Count total arrivals and departures\n",
    "arrivals_count = combined_data['ArrivalAirport'].value_counts()\n",
    "departures_count = combined_data['DepartureAirport'].value_counts()\n",
    "\n",
    "# Sum arrivals and departures for each airport\n",
    "total_flights = arrivals_count.add(departures_count, fill_value=0)\n",
    "\n",
    "# Map airport codes to full names\n",
    "total_flights.index = total_flights.index.to_series().replace(airport_mapping)\n",
    "\n",
    "# Sort in descending order and get the top 5\n",
    "top_5_busiest_airports = total_flights.sort_values(ascending=False).head(5)\n",
    "\n",
    "# Display result\n",
    "print(\"Top 5 Busiest Airports in the US (by total arrivals and departures):\")\n",
    "print(top_5_busiest_airports)\n"
   ]
  },
  {
   "cell_type": "markdown",
   "metadata": {},
   "source": [
    "The above output shows the busiest airports in the US by total arrivals and departures. Atlanta was the busiest overall."
   ]
  },
  {
   "cell_type": "markdown",
   "metadata": {},
   "source": [
    "## 3. ShortStoryJam [45 pts]"
   ]
  },
  {
   "cell_type": "markdown",
   "metadata": {},
   "source": [
    "#### 1. [3 points] To seed the effort, the text of about 22 short stories by Edgar Allan Poe, he of the “quoth the raven” fame, are available in my github repository. Clean the text and remove stopwords, as specified in a previous assignment."
   ]
  },
  {
   "cell_type": "markdown",
   "metadata": {},
   "source": [
    "#### 2. [8 points] Use NLTK to decompose the first story (A_DESCENT_INTO…) into sentences & sentences into tokens. Here is the code for doing that, after you set the variable paragraph to hold the text of the story."
   ]
  },
  {
   "cell_type": "markdown",
   "metadata": {},
   "source": [
    "#### 3. [11 points] Tag all remaining words in the story as parts of speech using the Penn POS Tags. This SO answer shows how to obtain the POS tag values. Create and print a dictionary with the Penn POS Tags as keys and a list of words as the values."
   ]
  },
  {
   "cell_type": "markdown",
   "metadata": {},
   "source": [
    "####  4. [11 points] In this framework, each row will represent a story. The columns will be as follows:\n",
    "The text of the story,\n",
    "Two-letter prefixes of each tag, for example NN, VB, RB, JJ etc.and the words belonging to that tag in the story. \n",
    "Show your code and the tag columns, at least for the one story.\n"
   ]
  },
  {
   "cell_type": "markdown",
   "metadata": {},
   "source": [
    "#### 5. [12 points] The conjecture of many linguists is that the number of different parts of speech per thousand words, (nouns, verbs, adjectives, adverbs, …). is pretty much the same for all stories in a given language. In this case, with all stories in English, and all from the same author, we expect it to be true. Is the conjecture consistent with your findings?"
   ]
  }
 ],
 "metadata": {
  "kernelspec": {
   "display_name": "Python 3",
   "language": "python",
   "name": "python3"
  },
  "language_info": {
   "codemirror_mode": {
    "name": "ipython",
    "version": 3
   },
   "file_extension": ".py",
   "mimetype": "text/x-python",
   "name": "python",
   "nbconvert_exporter": "python",
   "pygments_lexer": "ipython3",
   "version": "3.12.2"
  }
 },
 "nbformat": 4,
 "nbformat_minor": 2
}
