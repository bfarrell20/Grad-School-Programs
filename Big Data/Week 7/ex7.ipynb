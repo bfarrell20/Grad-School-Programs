{
  "cells": [
    {
      "cell_type": "code",
      "execution_count": 42,
      "metadata": {
        "id": "gGoXQduikgTs"
      },
      "outputs": [],
      "source": [
        "import twelvedata\n"
      ]
    },
    {
      "cell_type": "code",
      "execution_count": 44,
      "metadata": {
        "id": "cIGil9r9kgTt",
        "outputId": "1d9e57ab-de7a-4c45-f441-bee0cc065285",
        "colab": {
          "base_uri": "https://localhost:8080/"
        }
      },
      "outputs": [
        {
          "output_type": "stream",
          "name": "stdout",
          "text": [
            "Mounted at /content/drive\n"
          ]
        }
      ],
      "source": [
        "from google.colab import drive\n",
        "drive.mount('/content/drive', force_remount=True)\n",
        "from key import twelveDataKey as api_key"
      ]
    },
    {
      "cell_type": "code",
      "source": [
        "import time\n",
        "from twelvedata import TDClient\n",
        "import pandas as pd\n",
        "from datetime import datetime, timedelta, time\n",
        "import os\n",
        "from google.colab import drive\n",
        "\n",
        "# Initialize the client\n",
        "td = TDClient(apikey=api_key)\n",
        "\n",
        "# Mount Google Drive\n",
        "drive.mount('/content/drive')\n",
        "\n",
        "def fetch_stock_data(symbol):\n",
        "    # Define the date range\n",
        "    start_date = datetime(2021, 1, 1)\n",
        "    end_date = datetime(2024, 12, 31)\n",
        "\n",
        "    # Define market hours\n",
        "    market_open_time = time(9, 30)  # 9:30 AM\n",
        "    market_close_time = time(16, 0)  # 4:00 PM\n",
        "\n",
        "    all_data = []\n",
        "\n",
        "    # Iterate through each month in the date range\n",
        "    current_date = start_date\n",
        "    while current_date <= end_date:\n",
        "        # Calculate the last day of the current month\n",
        "        if current_date.month == 12:\n",
        "            next_month = current_date.replace(year=current_date.year + 1, month=1, day=1)\n",
        "        else:\n",
        "            next_month = current_date.replace(month=current_date.month + 1, day=1)\n",
        "        last_day_of_month = next_month - timedelta(days=1)\n",
        "\n",
        "        # Define the start and end times for the entire month\n",
        "        month_start = datetime.combine(current_date, market_open_time)\n",
        "        month_end = datetime.combine(last_day_of_month, market_close_time)\n",
        "\n",
        "        # Fetch data for the entire month\n",
        "        try:\n",
        "            print(f\"Fetching {symbol} data for {current_date.strftime('%Y-%m')}...\")\n",
        "            data = td.time_series(\n",
        "                symbol=symbol,\n",
        "                interval=\"30min\",\n",
        "                start_date=month_start.strftime(\"%Y-%m-%d %H:%M:%S\"),\n",
        "                end_date=month_end.strftime(\"%Y-%m-%d %H:%M:%S\"),\n",
        "                outputsize=5000\n",
        "            ).as_pandas()\n",
        "\n",
        "            if not data.empty:\n",
        "                all_data.append(data)\n",
        "                print(f\"Successfully fetched {len(data)} rows for {symbol} in {current_date.strftime('%Y-%m')}.\")\n",
        "            else:\n",
        "                print(f\"No data returned for {symbol} in {current_date.strftime('%Y-%m')} (market may have been closed).\")\n",
        "\n",
        "        except Exception as e:\n",
        "            print(f\"Error fetching {symbol} data for {current_date.strftime('%Y-%m')}: {e}\")\n",
        "\n",
        "        # Move to the next month\n",
        "        current_date = next_month\n",
        "\n",
        "        # Add delay between requests to avoid hitting API limits\n",
        "        time.sleep(10)  # 10-second delay (6 requests per minute)\n",
        "\n",
        "    # Combine all chunks into a single DataFrame\n",
        "    if all_data:\n",
        "        full_data = pd.concat(all_data)\n",
        "        # Remove duplicates (if any)\n",
        "        full_data = full_data[~full_data.index.duplicated(keep='first')]\n",
        "        # Save to Google Drive\n",
        "        full_data.to_csv(f'/content/drive/My Drive/{symbol}_data.csv', index=True)\n",
        "        print(f\"{symbol} data saved to Google Drive as {symbol}_data.csv\")\n",
        "    else:\n",
        "        print(f\"No data collected for {symbol}\")\n",
        "\n",
        "# Pull data for AAPL and MSFT\n",
        "fetch_stock_data(\"AAPL\")\n",
        "fetch_stock_data(\"MSFT\")"
      ],
      "metadata": {
        "id": "xwKPkm7bkxJW"
      },
      "execution_count": null,
      "outputs": []
    }
  ],
  "metadata": {
    "kernelspec": {
      "display_name": "Python 3",
      "language": "python",
      "name": "python3"
    },
    "language_info": {
      "codemirror_mode": {
        "name": "ipython",
        "version": 3
      },
      "file_extension": ".py",
      "mimetype": "text/x-python",
      "name": "python",
      "nbconvert_exporter": "python",
      "pygments_lexer": "ipython3",
      "version": "3.12.2"
    },
    "colab": {
      "provenance": []
    }
  },
  "nbformat": 4,
  "nbformat_minor": 0
}